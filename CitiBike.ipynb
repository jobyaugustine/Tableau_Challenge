{
 "cells": [
  {
   "cell_type": "code",
   "execution_count": 14,
   "id": "07ee4f70",
   "metadata": {},
   "outputs": [],
   "source": [
    "import os\n",
    "import glob\n",
    "import pandas as pd\n",
    "import csv\n",
    "import time\n",
    "import pprint\n",
    "from datetime import datetime, timedelta\n"
   ]
  },
  {
   "cell_type": "markdown",
   "id": "6c56960e",
   "metadata": {},
   "source": [
    "Setting up the working directory"
   ]
  },
  {
   "cell_type": "code",
   "execution_count": 15,
   "id": "041bc4da",
   "metadata": {},
   "outputs": [
    {
     "data": {
      "text/plain": [
       "'/Users/jobyaugustine/Desktop/Assignments/MyAssignmentRepos/Tableau_Challenge'"
      ]
     },
     "execution_count": 15,
     "metadata": {},
     "output_type": "execute_result"
    }
   ],
   "source": [
    "os.getcwd()"
   ]
  },
  {
   "cell_type": "code",
   "execution_count": 16,
   "id": "0d6064a9",
   "metadata": {},
   "outputs": [],
   "source": [
    "# os.chdir(\"/Users/jobyaugustine/Desktop/Assignments/MyAssignmentRepos/Tableau_Challenge\")"
   ]
  },
  {
   "cell_type": "markdown",
   "id": "d2185a0c",
   "metadata": {},
   "source": [
    "Use glob to match the pattern ‘csv’"
   ]
  },
  {
   "cell_type": "code",
   "execution_count": 17,
   "id": "6b314861",
   "metadata": {},
   "outputs": [],
   "source": [
    "# extension = 'csv'\n",
    "# all_filenames = [i for i in glob.glob('*.{}'.format(extension))]"
   ]
  },
  {
   "cell_type": "code",
   "execution_count": 18,
   "id": "c2d9c18f",
   "metadata": {},
   "outputs": [],
   "source": [
    "#combine all files in the list\n",
    "df = pd.concat([pd.read_csv(f) for f in glob.glob('Resources/JC*.csv')], ignore_index = True)"
   ]
  },
  {
   "cell_type": "markdown",
   "id": "91784d7d",
   "metadata": {},
   "source": [
    "Combine all files in the list and export as CSV"
   ]
  },
  {
   "cell_type": "code",
   "execution_count": 19,
   "id": "9e78f591",
   "metadata": {},
   "outputs": [],
   "source": [
    "#combine all files in the list\n",
    "# combined_csv = pd.concat([pd.read_csv(f) for f in all_filenames ])\n",
    "#export to csv\n",
    "# combined_csv.to_csv( \"combined_csv.csv\", index=False, encoding='utf-8-sig')"
   ]
  },
  {
   "cell_type": "code",
   "execution_count": 20,
   "id": "0d0f49b1",
   "metadata": {},
   "outputs": [
    {
     "name": "stdout",
     "output_type": "stream",
     "text": [
      "<class 'pandas.core.frame.DataFrame'>\n",
      "RangeIndex: 632732 entries, 0 to 632731\n",
      "Data columns (total 13 columns):\n",
      " #   Column              Non-Null Count   Dtype  \n",
      "---  ------              --------------   -----  \n",
      " 0   ride_id             632732 non-null  object \n",
      " 1   rideable_type       632732 non-null  object \n",
      " 2   started_at          632732 non-null  object \n",
      " 3   ended_at            632732 non-null  object \n",
      " 4   start_station_name  632732 non-null  object \n",
      " 5   start_station_id    632732 non-null  object \n",
      " 6   end_station_name    629308 non-null  object \n",
      " 7   end_station_id      629308 non-null  object \n",
      " 8   start_lat           632732 non-null  float64\n",
      " 9   start_lng           632732 non-null  float64\n",
      " 10  end_lat             630576 non-null  float64\n",
      " 11  end_lng             630576 non-null  float64\n",
      " 12  member_casual       632732 non-null  object \n",
      "dtypes: float64(4), object(9)\n",
      "memory usage: 62.8+ MB\n"
     ]
    }
   ],
   "source": [
    "df.info()"
   ]
  },
  {
   "cell_type": "code",
   "execution_count": 21,
   "id": "1f4618cb",
   "metadata": {},
   "outputs": [
    {
     "name": "stdout",
     "output_type": "stream",
     "text": [
      "        ride_id  rideable_type  started_at  ended_at  start_station_name  \\\n",
      "0         False          False       False     False               False   \n",
      "1         False          False       False     False               False   \n",
      "2         False          False       False     False               False   \n",
      "3         False          False       False     False               False   \n",
      "4         False          False       False     False               False   \n",
      "...         ...            ...         ...       ...                 ...   \n",
      "632727    False          False       False     False               False   \n",
      "632728    False          False       False     False               False   \n",
      "632729    False          False       False     False               False   \n",
      "632730    False          False       False     False               False   \n",
      "632731    False          False       False     False               False   \n",
      "\n",
      "        start_station_id  end_station_name  end_station_id  start_lat  \\\n",
      "0                  False             False           False      False   \n",
      "1                  False             False           False      False   \n",
      "2                  False             False           False      False   \n",
      "3                  False             False           False      False   \n",
      "4                  False             False           False      False   \n",
      "...                  ...               ...             ...        ...   \n",
      "632727             False             False           False      False   \n",
      "632728             False             False           False      False   \n",
      "632729             False             False           False      False   \n",
      "632730             False             False           False      False   \n",
      "632731             False             False           False      False   \n",
      "\n",
      "        start_lng  end_lat  end_lng  member_casual  \n",
      "0           False    False    False          False  \n",
      "1           False    False    False          False  \n",
      "2           False    False    False          False  \n",
      "3           False    False    False          False  \n",
      "4           False    False    False          False  \n",
      "...           ...      ...      ...            ...  \n",
      "632727      False    False    False          False  \n",
      "632728      False    False    False          False  \n",
      "632729      False    False    False          False  \n",
      "632730      False    False    False          False  \n",
      "632731      False    False    False          False  \n",
      "\n",
      "[632732 rows x 13 columns]\n"
     ]
    }
   ],
   "source": [
    "print(df.isnull())"
   ]
  },
  {
   "cell_type": "code",
   "execution_count": 24,
   "id": "496ba3ea",
   "metadata": {},
   "outputs": [
    {
     "data": {
      "text/plain": [
       "Index(['ride_id', 'rideable_type', 'started_at', 'ended_at',\n",
       "       'start_station_name', 'start_station_id', 'end_station_name',\n",
       "       'end_station_id', 'start_lat', 'start_lng', 'end_lat', 'end_lng',\n",
       "       'member_casual'],\n",
       "      dtype='object')"
      ]
     },
     "execution_count": 24,
     "metadata": {},
     "output_type": "execute_result"
    }
   ],
   "source": [
    "df.columns\n"
   ]
  },
  {
   "cell_type": "code",
   "execution_count": 25,
   "id": "d6a1bb98",
   "metadata": {},
   "outputs": [],
   "source": [
    "# converting the df to csv \n",
    "# df.to_csv(\"citi_bike_sixmonths.csv\", index=False)\n",
    "df.to_csv(\"citi_bike_oneyear.csv\", index=False)"
   ]
  },
  {
   "cell_type": "code",
   "execution_count": null,
   "id": "48f8e79a",
   "metadata": {},
   "outputs": [],
   "source": []
  }
 ],
 "metadata": {
  "kernelspec": {
   "display_name": "Python 3",
   "language": "python",
   "name": "python3"
  },
  "language_info": {
   "codemirror_mode": {
    "name": "ipython",
    "version": 3
   },
   "file_extension": ".py",
   "mimetype": "text/x-python",
   "name": "python",
   "nbconvert_exporter": "python",
   "pygments_lexer": "ipython3",
   "version": "3.8.8"
  }
 },
 "nbformat": 4,
 "nbformat_minor": 5
}
